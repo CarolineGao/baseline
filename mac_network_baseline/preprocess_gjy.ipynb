{
 "cells": [
  {
   "cell_type": "code",
   "execution_count": 6,
   "id": "6496ee11",
   "metadata": {},
   "outputs": [
    {
     "ename": "NotADirectoryError",
     "evalue": "[Errno 20] Not a directory: '/home/jingying/.local/share/jupyter/runtime/kernel-202f0ebd-519c-4327-baf2-f8536e4ce8f9.json/questions/-f_train_questions.json'",
     "output_type": "error",
     "traceback": [
      "\u001b[0;31m---------------------------------------------------------------------------\u001b[0m",
      "\u001b[0;31mNotADirectoryError\u001b[0m                        Traceback (most recent call last)",
      "\u001b[0;32m/tmp/ipykernel_759207/2443733404.py\u001b[0m in \u001b[0;36m<module>\u001b[0;34m\u001b[0m\n\u001b[1;32m     61\u001b[0m     \u001b[0mdataset_type\u001b[0m \u001b[0;34m=\u001b[0m \u001b[0msys\u001b[0m\u001b[0;34m.\u001b[0m\u001b[0margv\u001b[0m\u001b[0;34m[\u001b[0m\u001b[0;36m1\u001b[0m\u001b[0;34m]\u001b[0m\u001b[0;34m\u001b[0m\u001b[0;34m\u001b[0m\u001b[0m\n\u001b[1;32m     62\u001b[0m     \u001b[0mroot\u001b[0m \u001b[0;34m=\u001b[0m \u001b[0msys\u001b[0m\u001b[0;34m.\u001b[0m\u001b[0margv\u001b[0m\u001b[0;34m[\u001b[0m\u001b[0;36m2\u001b[0m\u001b[0;34m]\u001b[0m\u001b[0;34m\u001b[0m\u001b[0;34m\u001b[0m\u001b[0m\n\u001b[0;32m---> 63\u001b[0;31m     \u001b[0mword_dic\u001b[0m\u001b[0;34m,\u001b[0m \u001b[0manswer_dic\u001b[0m \u001b[0;34m=\u001b[0m \u001b[0mprocess_question\u001b[0m\u001b[0;34m(\u001b[0m\u001b[0mroot\u001b[0m\u001b[0;34m,\u001b[0m \u001b[0;34m'train'\u001b[0m\u001b[0;34m,\u001b[0m \u001b[0mdataset_type\u001b[0m\u001b[0;34m=\u001b[0m\u001b[0mdataset_type\u001b[0m\u001b[0;34m)\u001b[0m\u001b[0;34m\u001b[0m\u001b[0;34m\u001b[0m\u001b[0m\n\u001b[0m\u001b[1;32m     64\u001b[0m     \u001b[0mprocess_question\u001b[0m\u001b[0;34m(\u001b[0m\u001b[0mroot\u001b[0m\u001b[0;34m,\u001b[0m \u001b[0;34m'val'\u001b[0m\u001b[0;34m,\u001b[0m \u001b[0mword_dic\u001b[0m\u001b[0;34m,\u001b[0m \u001b[0manswer_dic\u001b[0m\u001b[0;34m,\u001b[0m \u001b[0mdataset_type\u001b[0m\u001b[0;34m=\u001b[0m\u001b[0mdataset_type\u001b[0m\u001b[0;34m)\u001b[0m\u001b[0;34m\u001b[0m\u001b[0;34m\u001b[0m\u001b[0m\n\u001b[1;32m     65\u001b[0m \u001b[0;34m\u001b[0m\u001b[0m\n",
      "\u001b[0;32m/tmp/ipykernel_759207/2443733404.py\u001b[0m in \u001b[0;36mprocess_question\u001b[0;34m(root, split, word_dic, answer_dic, dataset_type)\u001b[0m\n\u001b[1;32m     21\u001b[0m         \u001b[0manswer_dic\u001b[0m \u001b[0;34m=\u001b[0m \u001b[0;34m{\u001b[0m\u001b[0;34m}\u001b[0m\u001b[0;34m\u001b[0m\u001b[0;34m\u001b[0m\u001b[0m\n\u001b[1;32m     22\u001b[0m \u001b[0;34m\u001b[0m\u001b[0m\n\u001b[0;32m---> 23\u001b[0;31m     \u001b[0;32mwith\u001b[0m \u001b[0mopen\u001b[0m\u001b[0;34m(\u001b[0m\u001b[0mos\u001b[0m\u001b[0;34m.\u001b[0m\u001b[0mpath\u001b[0m\u001b[0;34m.\u001b[0m\u001b[0mjoin\u001b[0m\u001b[0;34m(\u001b[0m\u001b[0mroot\u001b[0m\u001b[0;34m,\u001b[0m \u001b[0;34m'questions'\u001b[0m\u001b[0;34m,\u001b[0m \u001b[0;34mf'{dataset_type}_{split}_questions.json'\u001b[0m\u001b[0;34m)\u001b[0m\u001b[0;34m)\u001b[0m \u001b[0;32mas\u001b[0m \u001b[0mf\u001b[0m\u001b[0;34m:\u001b[0m\u001b[0;34m\u001b[0m\u001b[0;34m\u001b[0m\u001b[0m\n\u001b[0m\u001b[1;32m     24\u001b[0m         \u001b[0mdata\u001b[0m \u001b[0;34m=\u001b[0m \u001b[0mjson\u001b[0m\u001b[0;34m.\u001b[0m\u001b[0mload\u001b[0m\u001b[0;34m(\u001b[0m\u001b[0mf\u001b[0m\u001b[0;34m)\u001b[0m\u001b[0;34m\u001b[0m\u001b[0;34m\u001b[0m\u001b[0m\n\u001b[1;32m     25\u001b[0m \u001b[0;34m\u001b[0m\u001b[0m\n",
      "\u001b[0;31mNotADirectoryError\u001b[0m: [Errno 20] Not a directory: '/home/jingying/.local/share/jupyter/runtime/kernel-202f0ebd-519c-4327-baf2-f8536e4ce8f9.json/questions/-f_train_questions.json'"
     ]
    }
   ],
   "source": [
    "import os\n",
    "import sys\n",
    "import json\n",
    "import pickle\n",
    "\n",
    "import nltk\n",
    "import tqdm\n",
    "from torchvision import transforms\n",
    "from PIL import Image\n",
    "from transforms import Scale\n",
    "\n",
    "image_index = {'CLEVR': 'image_filename',\n",
    "               'gqa': 'imageId'}\n",
    "\n",
    "\n",
    "def process_question(root, split, word_dic=None, answer_dic=None, dataset_type='CLEVR'):\n",
    "    if word_dic is None:\n",
    "        word_dic = {}\n",
    "\n",
    "    if answer_dic is None:\n",
    "        answer_dic = {}\n",
    "\n",
    "    with open(os.path.join(root, 'questions', f'{dataset_type}_{split}_questions.json')) as f:\n",
    "        data = json.load(f)\n",
    "\n",
    "    result = []\n",
    "    word_index = 1\n",
    "    answer_index = 0\n",
    "\n",
    "    for question in tqdm.tqdm(data['questions']):\n",
    "        words = nltk.word_tokenize(question['question'])\n",
    "        question_token = []\n",
    "\n",
    "        for word in words:\n",
    "            try:\n",
    "                question_token.append(word_dic[word])\n",
    "\n",
    "            except:\n",
    "                question_token.append(word_index)\n",
    "                word_dic[word] = word_index\n",
    "                word_index += 1\n",
    "\n",
    "        answer_word = question['answer']\n",
    "\n",
    "        try:\n",
    "            answer = answer_dic[answer_word]\n",
    "        except:\n",
    "            answer = answer_index\n",
    "            answer_dic[answer_word] = answer_index\n",
    "            answer_index += 1\n",
    "        \n",
    "        result.append((question[image_index[dataset_type]], question_token, answer)) # Map LoRA with line 52. \n",
    "\n",
    "    with open(f'data/{dataset_type}_{split}.pkl', 'wb') as f:\n",
    "        pickle.dump(result, f)\n",
    "\n",
    "    return word_dic, answer_dic\n",
    "\n",
    "\n",
    "if __name__ == '__main__':\n",
    "    dataset_type = sys.argv[1]\n",
    "    root = sys.argv[2]\n",
    "    word_dic, answer_dic = process_question(root, 'train', dataset_type=dataset_type)\n",
    "    process_question(root, 'val', word_dic, answer_dic, dataset_type=dataset_type)\n",
    "\n",
    "    with open(f'data/{dataset_type}_dic.pkl', 'wb') as f:\n",
    "        pickle.dump({'word_dic': word_dic, 'answer_dic': answer_dic}, f)\n",
    "\n"
   ]
  },
  {
   "cell_type": "code",
   "execution_count": 2,
   "id": "5bee6b5f",
   "metadata": {},
   "outputs": [],
   "source": [
    "import os\n",
    "import sys\n",
    "import json\n",
    "import pickle\n",
    "\n",
    "import nltk\n",
    "import tqdm\n",
    "from torchvision import transforms\n",
    "from PIL import Image\n",
    "from transforms import Scale\n",
    "import pandas as pd"
   ]
  },
  {
   "cell_type": "code",
   "execution_count": 12,
   "id": "32241e36",
   "metadata": {},
   "outputs": [
    {
     "name": "stdout",
     "output_type": "stream",
     "text": [
      "   2324265' [25, 26, 103, 4, 30, 6, 589, 8]    3\n",
      "0  2324265'       [46, 201, 11, 86, 231, 8]  150\n",
      "1  2394857'    [14, 20, 16, 11, 142, 35, 8]    2\n",
      "<class 'pandas.core.frame.DataFrame'>\n",
      "RangeIndex: 2 entries, 0 to 1\n",
      "Data columns (total 3 columns):\n",
      " #   Column                           Non-Null Count  Dtype \n",
      "---  ------                           --------------  ----- \n",
      " 0   2324265'                         2 non-null      object\n",
      " 1   [25, 26, 103, 4, 30, 6, 589, 8]  2 non-null      object\n",
      " 2   3                                2 non-null      int64 \n",
      "dtypes: int64(1), object(2)\n",
      "memory usage: 176.0+ bytes\n"
     ]
    }
   ],
   "source": [
    "lora = pd.read_csv(\"/home/jingying/baseline/mac-network-pytorch/mac-network-pytorch-gqa/data/lora.csv\")\n",
    "print(LoRA)\n",
    "lora.info()"
   ]
  },
  {
   "cell_type": "code",
   "execution_count": 11,
   "id": "b9262f8b",
   "metadata": {},
   "outputs": [
    {
     "name": "stdout",
     "output_type": "stream",
     "text": [
      "  image_index                   question_token  answer\n",
      "0     2324265  [25, 26, 103, 4, 30, 6, 589, 8]       3\n",
      "1     2324265        [46, 201, 11, 86, 231, 8]     150\n",
      "2     2394857     [14, 20, 16, 11, 142, 35, 8]       2\n"
     ]
    }
   ],
   "source": [
    "file_path =\"/home/jingying/baseline/mac-network-pytorch/mac-network-pytorch-gqa/data/lora.csv\"\n",
    "header_list = [\"image_index\", \"question_token\", \"answer\"]\n",
    "\n",
    "lora = pd.read_csv(file_path, names = header_list)\n",
    "lora['image_index'] = lora.image_index.astype(str)\n",
    "lora['question_token'] = lora.question_token.str.split(',')\n",
    "# lora['question_token'] = list(map(int, lora.question_token))\n",
    "# lora['question_token'] = lora.apply(lambda x: int(x['question_token']), axis=0)\n",
    "\n",
    "lora = lora.assign(question_token=lora.question_token.apply(lambda x: list(map(int, x)) ))\n",
    "print(lora)\n",
    "\n",
    "\n",
    "#     result = lora.values.tolist()\n",
    "# #     result = []\n",
    "# #     result.append(lora.series)\n",
    "\n",
    "#     print(result)"
   ]
  },
  {
   "cell_type": "code",
   "execution_count": 6,
   "id": "1027f701",
   "metadata": {},
   "outputs": [],
   "source": [
    "lora['question_token'] = lora.question_token.str.split(',')"
   ]
  },
  {
   "cell_type": "code",
   "execution_count": 10,
   "id": "5e5d8ece",
   "metadata": {},
   "outputs": [
    {
     "name": "stdout",
     "output_type": "stream",
     "text": [
      "  image_index                   question_token  answer\n",
      "0    2324265'  [25, 26, 103, 4, 30, 6, 589, 8]       3\n",
      "1    2324265'        [46, 201, 11, 86, 231, 8]     150\n",
      "2    2394857'     [14, 20, 16, 11, 142, 35, 8]       2\n",
      "[[\"2324265'\", '[25, 26, 103, 4, 30, 6, 589, 8]', 3], [\"2324265'\", '[46, 201, 11, 86, 231, 8]', 150], [\"2394857'\", '[14, 20, 16, 11, 142, 35, 8]', 2]]\n"
     ]
    }
   ],
   "source": [
    "# def process_question(root, split, word_dic=None, answer_dic=None, dataset_type='LoRA'):\n",
    "\n",
    "file_path =\"/home/jingying/baseline/mac-network-pytorch/mac-network-pytorch-gqa/data/lora.csv\"\n",
    "header_list = [\"image_index\", \"question_token\", \"answer\"]\n",
    "\n",
    "lora = pd.read_csv(file_path, names = header_list)\n",
    "print(data)\n",
    "\n",
    "result = lora.values.tolist()\n",
    "# result = []\n",
    "# result.append(lora.series)\n",
    "print(result)\n",
    "\n",
    "\n",
    "#     result.append((question[image_index[dataset_type]], question_token, answer)) # Map LoRA with line 52. \n"
   ]
  },
  {
   "cell_type": "code",
   "execution_count": null,
   "id": "8cf44f43",
   "metadata": {},
   "outputs": [],
   "source": []
  }
 ],
 "metadata": {
  "kernelspec": {
   "display_name": "Python 3 (ipykernel)",
   "language": "python",
   "name": "python3"
  },
  "language_info": {
   "codemirror_mode": {
    "name": "ipython",
    "version": 3
   },
   "file_extension": ".py",
   "mimetype": "text/x-python",
   "name": "python",
   "nbconvert_exporter": "python",
   "pygments_lexer": "ipython3",
   "version": "3.8.10"
  }
 },
 "nbformat": 4,
 "nbformat_minor": 5
}
